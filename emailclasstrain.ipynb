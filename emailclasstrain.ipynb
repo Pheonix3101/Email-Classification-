{
 "cells": [
  {
   "cell_type": "code",
   "execution_count": 2,
   "id": "846fcf94",
   "metadata": {},
   "outputs": [
    {
     "name": "stderr",
     "output_type": "stream",
     "text": [
      "[nltk_data] Downloading package stopwords to\n",
      "[nltk_data]     C:\\Users\\gunva\\AppData\\Roaming\\nltk_data...\n",
      "[nltk_data]   Package stopwords is already up-to-date!\n",
      "[nltk_data] Downloading package wordnet to\n",
      "[nltk_data]     C:\\Users\\gunva\\AppData\\Roaming\\nltk_data...\n",
      "[nltk_data]   Package wordnet is already up-to-date!\n"
     ]
    }
   ],
   "source": [
    "import pandas as pd\n",
    "import numpy as np\n",
    "import re\n",
    "import nltk\n",
    "nltk.download('stopwords')\n",
    "from nltk.corpus import stopwords\n",
    "from nltk.stem.porter import *\n",
    "from nltk.stem import WordNetLemmatizer \n",
    "nltk.download('wordnet')\n",
    "from nltk.tokenize import TweetTokenizer\n",
    "from sklearn.model_selection import train_test_split\n",
    "import keras\n",
    "from keras.preprocessing import text\n",
    "from sklearn.feature_extraction.text import TfidfVectorizer\n",
    "import gensim\n",
    "from keras.preprocessing.text import Tokenizer\n",
    "from keras.preprocessing.sequence import pad_sequences\n",
    "from keras.models import Sequential\n",
    "from keras.layers import Activation, Dense, Dropout, Embedding, Flatten, Conv1D, MaxPooling1D, LSTM, SimpleRNN, LeakyReLU\n",
    "from keras.callbacks import ReduceLROnPlateau, EarlyStopping\n",
    "import matplotlib.pyplot as plt\n",
    "from sklearn.metrics import confusion_matrix, classification_report, accuracy_score"
   ]
  },
  {
   "cell_type": "code",
   "execution_count": 3,
   "id": "20a56be7",
   "metadata": {},
   "outputs": [],
   "source": [
    "cols = ['mail', 'label']\n",
    "df = pd.read_csv('main_dataset.csv', encoding='latin-1')"
   ]
  },
  {
   "cell_type": "code",
   "execution_count": 4,
   "id": "b2b3a934",
   "metadata": {},
   "outputs": [
    {
     "data": {
      "text/html": [
       "<div>\n",
       "<style scoped>\n",
       "    .dataframe tbody tr th:only-of-type {\n",
       "        vertical-align: middle;\n",
       "    }\n",
       "\n",
       "    .dataframe tbody tr th {\n",
       "        vertical-align: top;\n",
       "    }\n",
       "\n",
       "    .dataframe thead th {\n",
       "        text-align: right;\n",
       "    }\n",
       "</style>\n",
       "<table border=\"1\" class=\"dataframe\">\n",
       "  <thead>\n",
       "    <tr style=\"text-align: right;\">\n",
       "      <th></th>\n",
       "      <th>mail</th>\n",
       "      <th>label</th>\n",
       "      <th>Unnamed: 2</th>\n",
       "    </tr>\n",
       "  </thead>\n",
       "  <tbody>\n",
       "    <tr>\n",
       "      <th>0</th>\n",
       "      <td>Business terms and conditions to continue our ...</td>\n",
       "      <td>2</td>\n",
       "      <td>NaN</td>\n",
       "    </tr>\n",
       "    <tr>\n",
       "      <th>1</th>\n",
       "      <td>I'm sorry that I couldn't get to your birthday...</td>\n",
       "      <td>1</td>\n",
       "      <td>NaN</td>\n",
       "    </tr>\n",
       "    <tr>\n",
       "      <th>2</th>\n",
       "      <td>Your Amazon.in order #405 of 1 item has been d...</td>\n",
       "      <td>5</td>\n",
       "      <td>NaN</td>\n",
       "    </tr>\n",
       "    <tr>\n",
       "      <th>3</th>\n",
       "      <td>We thought you'd like to know that we've dispa...</td>\n",
       "      <td>5</td>\n",
       "      <td>NaN</td>\n",
       "    </tr>\n",
       "    <tr>\n",
       "      <th>4</th>\n",
       "      <td>For the secure delivery of your order, it will...</td>\n",
       "      <td>5</td>\n",
       "      <td>NaN</td>\n",
       "    </tr>\n",
       "  </tbody>\n",
       "</table>\n",
       "</div>"
      ],
      "text/plain": [
       "                                                mail  label  Unnamed: 2\n",
       "0  Business terms and conditions to continue our ...      2         NaN\n",
       "1  I'm sorry that I couldn't get to your birthday...      1         NaN\n",
       "2  Your Amazon.in order #405 of 1 item has been d...      5         NaN\n",
       "3  We thought you'd like to know that we've dispa...      5         NaN\n",
       "4  For the secure delivery of your order, it will...      5         NaN"
      ]
     },
     "execution_count": 4,
     "metadata": {},
     "output_type": "execute_result"
    }
   ],
   "source": [
    "df.head()"
   ]
  },
  {
   "cell_type": "code",
   "execution_count": 5,
   "id": "30ad5cf6",
   "metadata": {},
   "outputs": [],
   "source": [
    "# Converting data into string because data can be in different datatypes like integer, float, object, string, etc\n",
    "def convert_to_string(mail):\n",
    "  return mail.astype(str)\n",
    "df[\"mail\"] = convert_to_string(df['mail'])"
   ]
  },
  {
   "cell_type": "code",
   "execution_count": 6,
   "id": "35477bc1",
   "metadata": {},
   "outputs": [
    {
     "data": {
      "text/html": [
       "<div>\n",
       "<style scoped>\n",
       "    .dataframe tbody tr th:only-of-type {\n",
       "        vertical-align: middle;\n",
       "    }\n",
       "\n",
       "    .dataframe tbody tr th {\n",
       "        vertical-align: top;\n",
       "    }\n",
       "\n",
       "    .dataframe thead th {\n",
       "        text-align: right;\n",
       "    }\n",
       "</style>\n",
       "<table border=\"1\" class=\"dataframe\">\n",
       "  <thead>\n",
       "    <tr style=\"text-align: right;\">\n",
       "      <th></th>\n",
       "      <th>mail</th>\n",
       "      <th>label</th>\n",
       "      <th>Unnamed: 2</th>\n",
       "    </tr>\n",
       "  </thead>\n",
       "  <tbody>\n",
       "    <tr>\n",
       "      <th>0</th>\n",
       "      <td>business terms and conditions to continue our ...</td>\n",
       "      <td>2</td>\n",
       "      <td>NaN</td>\n",
       "    </tr>\n",
       "    <tr>\n",
       "      <th>1</th>\n",
       "      <td>i'm sorry that i couldn't get to your birthday...</td>\n",
       "      <td>1</td>\n",
       "      <td>NaN</td>\n",
       "    </tr>\n",
       "    <tr>\n",
       "      <th>2</th>\n",
       "      <td>your amazon.in order #405 of 1 item has been d...</td>\n",
       "      <td>5</td>\n",
       "      <td>NaN</td>\n",
       "    </tr>\n",
       "    <tr>\n",
       "      <th>3</th>\n",
       "      <td>we thought you'd like to know that we've dispa...</td>\n",
       "      <td>5</td>\n",
       "      <td>NaN</td>\n",
       "    </tr>\n",
       "    <tr>\n",
       "      <th>4</th>\n",
       "      <td>for the secure delivery of your order, it will...</td>\n",
       "      <td>5</td>\n",
       "      <td>NaN</td>\n",
       "    </tr>\n",
       "  </tbody>\n",
       "</table>\n",
       "</div>"
      ],
      "text/plain": [
       "                                                mail  label  Unnamed: 2\n",
       "0  business terms and conditions to continue our ...      2         NaN\n",
       "1  i'm sorry that i couldn't get to your birthday...      1         NaN\n",
       "2  your amazon.in order #405 of 1 item has been d...      5         NaN\n",
       "3  we thought you'd like to know that we've dispa...      5         NaN\n",
       "4  for the secure delivery of your order, it will...      5         NaN"
      ]
     },
     "execution_count": 6,
     "metadata": {},
     "output_type": "execute_result"
    }
   ],
   "source": [
    "# Converting strings to lowercase\n",
    "def lowerize(mail):\n",
    "  return mail.str.lower()\n",
    "df[\"mail\"] = lowerize(df[\"mail\"].str.lower())\n",
    "df.head()"
   ]
  },
  {
   "cell_type": "code",
   "execution_count": 7,
   "id": "9f944d21",
   "metadata": {},
   "outputs": [
    {
     "data": {
      "text/html": [
       "<div>\n",
       "<style scoped>\n",
       "    .dataframe tbody tr th:only-of-type {\n",
       "        vertical-align: middle;\n",
       "    }\n",
       "\n",
       "    .dataframe tbody tr th {\n",
       "        vertical-align: top;\n",
       "    }\n",
       "\n",
       "    .dataframe thead th {\n",
       "        text-align: right;\n",
       "    }\n",
       "</style>\n",
       "<table border=\"1\" class=\"dataframe\">\n",
       "  <thead>\n",
       "    <tr style=\"text-align: right;\">\n",
       "      <th></th>\n",
       "      <th>mail</th>\n",
       "      <th>label</th>\n",
       "      <th>Unnamed: 2</th>\n",
       "    </tr>\n",
       "  </thead>\n",
       "  <tbody>\n",
       "    <tr>\n",
       "      <th>0</th>\n",
       "      <td>business terms and conditions to continue our...</td>\n",
       "      <td>2</td>\n",
       "      <td>NaN</td>\n",
       "    </tr>\n",
       "    <tr>\n",
       "      <th>1</th>\n",
       "      <td>i'm sorry that i couldn't get to your birthda...</td>\n",
       "      <td>1</td>\n",
       "      <td>NaN</td>\n",
       "    </tr>\n",
       "    <tr>\n",
       "      <th>2</th>\n",
       "      <td>your amazon.in order #405 of 1 item has been ...</td>\n",
       "      <td>5</td>\n",
       "      <td>NaN</td>\n",
       "    </tr>\n",
       "    <tr>\n",
       "      <th>3</th>\n",
       "      <td>we thought you'd like to know that we've disp...</td>\n",
       "      <td>5</td>\n",
       "      <td>NaN</td>\n",
       "    </tr>\n",
       "    <tr>\n",
       "      <th>4</th>\n",
       "      <td>for the secure delivery of your order, it wil...</td>\n",
       "      <td>5</td>\n",
       "      <td>NaN</td>\n",
       "    </tr>\n",
       "  </tbody>\n",
       "</table>\n",
       "</div>"
      ],
      "text/plain": [
       "                                                mail  label  Unnamed: 2\n",
       "0   business terms and conditions to continue our...      2         NaN\n",
       "1   i'm sorry that i couldn't get to your birthda...      1         NaN\n",
       "2   your amazon.in order #405 of 1 item has been ...      5         NaN\n",
       "3   we thought you'd like to know that we've disp...      5         NaN\n",
       "4   for the secure delivery of your order, it wil...      5         NaN"
      ]
     },
     "execution_count": 7,
     "metadata": {},
     "output_type": "execute_result"
    }
   ],
   "source": [
    "# Removing name with symbol @\n",
    "def remove_name(mail):\n",
    "    symbol = \"@\"\n",
    "    new_list = []\n",
    "    for sentence in mail:\n",
    "      new_sentence = ''\n",
    "      for i in sentence.split():\n",
    "        if symbol in i:\n",
    "          new_sentence += ''\n",
    "        else:\n",
    "          new_sentence += ' ' + i\n",
    "      new_list.append(new_sentence)\n",
    "    return new_list\n",
    "df['mail'] = remove_name(df['mail'])\n",
    "df.head()"
   ]
  },
  {
   "cell_type": "code",
   "execution_count": 8,
   "id": "a5700015",
   "metadata": {},
   "outputs": [
    {
     "data": {
      "text/html": [
       "<div>\n",
       "<style scoped>\n",
       "    .dataframe tbody tr th:only-of-type {\n",
       "        vertical-align: middle;\n",
       "    }\n",
       "\n",
       "    .dataframe tbody tr th {\n",
       "        vertical-align: top;\n",
       "    }\n",
       "\n",
       "    .dataframe thead th {\n",
       "        text-align: right;\n",
       "    }\n",
       "</style>\n",
       "<table border=\"1\" class=\"dataframe\">\n",
       "  <thead>\n",
       "    <tr style=\"text-align: right;\">\n",
       "      <th></th>\n",
       "      <th>mail</th>\n",
       "      <th>label</th>\n",
       "      <th>Unnamed: 2</th>\n",
       "    </tr>\n",
       "  </thead>\n",
       "  <tbody>\n",
       "    <tr>\n",
       "      <th>0</th>\n",
       "      <td>business terms and conditions to continue our...</td>\n",
       "      <td>2</td>\n",
       "      <td>NaN</td>\n",
       "    </tr>\n",
       "    <tr>\n",
       "      <th>1</th>\n",
       "      <td>i'm sorry that i couldn't get to your birthda...</td>\n",
       "      <td>1</td>\n",
       "      <td>NaN</td>\n",
       "    </tr>\n",
       "    <tr>\n",
       "      <th>2</th>\n",
       "      <td>your amazon.in order of 1 item has been dispa...</td>\n",
       "      <td>5</td>\n",
       "      <td>NaN</td>\n",
       "    </tr>\n",
       "    <tr>\n",
       "      <th>3</th>\n",
       "      <td>we thought you'd like to know that we've disp...</td>\n",
       "      <td>5</td>\n",
       "      <td>NaN</td>\n",
       "    </tr>\n",
       "    <tr>\n",
       "      <th>4</th>\n",
       "      <td>for the secure delivery of your order, it wil...</td>\n",
       "      <td>5</td>\n",
       "      <td>NaN</td>\n",
       "    </tr>\n",
       "  </tbody>\n",
       "</table>\n",
       "</div>"
      ],
      "text/plain": [
       "                                                mail  label  Unnamed: 2\n",
       "0   business terms and conditions to continue our...      2         NaN\n",
       "1   i'm sorry that i couldn't get to your birthda...      1         NaN\n",
       "2   your amazon.in order of 1 item has been dispa...      5         NaN\n",
       "3   we thought you'd like to know that we've disp...      5         NaN\n",
       "4   for the secure delivery of your order, it wil...      5         NaN"
      ]
     },
     "execution_count": 8,
     "metadata": {},
     "output_type": "execute_result"
    }
   ],
   "source": [
    "# Removing hashtags with the symbol #\n",
    "def remove_topic(mail):\n",
    "    symbol = \"#\"\n",
    "    new_list = []\n",
    "    for sentence in mail:\n",
    "      new_sentence = ''\n",
    "      for i in sentence.split():\n",
    "        if symbol in i:\n",
    "          new_sentence += ''\n",
    "        else:\n",
    "          new_sentence += ' ' + i\n",
    "      new_list.append(new_sentence)\n",
    "    return new_list\n",
    "df['mail'] = remove_topic(df['mail'])\n",
    "#for i in range(len(df['mail'])):\n",
    "#  if '#' in df['mail'][i]:\n",
    "#    print(i, df['mail'][i])\n",
    "#    break\n",
    "df.head()\n",
    "#remove_topic([df['mail'][83]])"
   ]
  },
  {
   "cell_type": "code",
   "execution_count": 9,
   "id": "48338f59",
   "metadata": {},
   "outputs": [
    {
     "data": {
      "text/html": [
       "<div>\n",
       "<style scoped>\n",
       "    .dataframe tbody tr th:only-of-type {\n",
       "        vertical-align: middle;\n",
       "    }\n",
       "\n",
       "    .dataframe tbody tr th {\n",
       "        vertical-align: top;\n",
       "    }\n",
       "\n",
       "    .dataframe thead th {\n",
       "        text-align: right;\n",
       "    }\n",
       "</style>\n",
       "<table border=\"1\" class=\"dataframe\">\n",
       "  <thead>\n",
       "    <tr style=\"text-align: right;\">\n",
       "      <th></th>\n",
       "      <th>mail</th>\n",
       "      <th>label</th>\n",
       "      <th>Unnamed: 2</th>\n",
       "    </tr>\n",
       "  </thead>\n",
       "  <tbody>\n",
       "    <tr>\n",
       "      <th>0</th>\n",
       "      <td>business terms and conditions to continue our...</td>\n",
       "      <td>2</td>\n",
       "      <td>NaN</td>\n",
       "    </tr>\n",
       "    <tr>\n",
       "      <th>1</th>\n",
       "      <td>i'm sorry that i couldn't get to your birthda...</td>\n",
       "      <td>1</td>\n",
       "      <td>NaN</td>\n",
       "    </tr>\n",
       "    <tr>\n",
       "      <th>2</th>\n",
       "      <td>your amazon.in order of 1 item has been dispa...</td>\n",
       "      <td>5</td>\n",
       "      <td>NaN</td>\n",
       "    </tr>\n",
       "    <tr>\n",
       "      <th>3</th>\n",
       "      <td>we thought you'd like to know that we've disp...</td>\n",
       "      <td>5</td>\n",
       "      <td>NaN</td>\n",
       "    </tr>\n",
       "    <tr>\n",
       "      <th>4</th>\n",
       "      <td>for the secure delivery of your order, it wil...</td>\n",
       "      <td>5</td>\n",
       "      <td>NaN</td>\n",
       "    </tr>\n",
       "  </tbody>\n",
       "</table>\n",
       "</div>"
      ],
      "text/plain": [
       "                                                mail  label  Unnamed: 2\n",
       "0   business terms and conditions to continue our...      2         NaN\n",
       "1   i'm sorry that i couldn't get to your birthda...      1         NaN\n",
       "2   your amazon.in order of 1 item has been dispa...      5         NaN\n",
       "3   we thought you'd like to know that we've disp...      5         NaN\n",
       "4   for the secure delivery of your order, it wil...      5         NaN"
      ]
     },
     "execution_count": 9,
     "metadata": {},
     "output_type": "execute_result"
    }
   ],
   "source": [
    "# Removing urls\n",
    "def remove_url(mail):\n",
    "  new_list = []\n",
    "  for sentence in mail:\n",
    "    new_list.append(re.sub(r\"http\\S+\", \"\", sentence))\n",
    "  return new_list\n",
    "df['mail'] = remove_url(df['mail'])\n",
    "df.head()"
   ]
  },
  {
   "cell_type": "code",
   "execution_count": 10,
   "id": "8c3354a0",
   "metadata": {},
   "outputs": [
    {
     "data": {
      "text/html": [
       "<div>\n",
       "<style scoped>\n",
       "    .dataframe tbody tr th:only-of-type {\n",
       "        vertical-align: middle;\n",
       "    }\n",
       "\n",
       "    .dataframe tbody tr th {\n",
       "        vertical-align: top;\n",
       "    }\n",
       "\n",
       "    .dataframe thead th {\n",
       "        text-align: right;\n",
       "    }\n",
       "</style>\n",
       "<table border=\"1\" class=\"dataframe\">\n",
       "  <thead>\n",
       "    <tr style=\"text-align: right;\">\n",
       "      <th></th>\n",
       "      <th>mail</th>\n",
       "      <th>label</th>\n",
       "      <th>Unnamed: 2</th>\n",
       "    </tr>\n",
       "  </thead>\n",
       "  <tbody>\n",
       "    <tr>\n",
       "      <th>0</th>\n",
       "      <td>business terms and conditions to continue our...</td>\n",
       "      <td>2</td>\n",
       "      <td>NaN</td>\n",
       "    </tr>\n",
       "    <tr>\n",
       "      <th>1</th>\n",
       "      <td>im sorry that i couldnt get to your birthday ...</td>\n",
       "      <td>1</td>\n",
       "      <td>NaN</td>\n",
       "    </tr>\n",
       "    <tr>\n",
       "      <th>2</th>\n",
       "      <td>your amazonin order of 1 item has been dispat...</td>\n",
       "      <td>5</td>\n",
       "      <td>NaN</td>\n",
       "    </tr>\n",
       "    <tr>\n",
       "      <th>3</th>\n",
       "      <td>we thought youd like to know that weve dispat...</td>\n",
       "      <td>5</td>\n",
       "      <td>NaN</td>\n",
       "    </tr>\n",
       "    <tr>\n",
       "      <th>4</th>\n",
       "      <td>for the secure delivery of your order, it wil...</td>\n",
       "      <td>5</td>\n",
       "      <td>NaN</td>\n",
       "    </tr>\n",
       "  </tbody>\n",
       "</table>\n",
       "</div>"
      ],
      "text/plain": [
       "                                                mail  label  Unnamed: 2\n",
       "0   business terms and conditions to continue our...      2         NaN\n",
       "1   im sorry that i couldnt get to your birthday ...      1         NaN\n",
       "2   your amazonin order of 1 item has been dispat...      5         NaN\n",
       "3   we thought youd like to know that weve dispat...      5         NaN\n",
       "4   for the secure delivery of your order, it wil...      5         NaN"
      ]
     },
     "execution_count": 10,
     "metadata": {},
     "output_type": "execute_result"
    }
   ],
   "source": [
    "# Removing special symbols\n",
    "def remove_symbols(mail):\n",
    "    symbols = \"!\\\"$%&()*+-./:;<=>?[\\]^_`{|}~\\n'\"\n",
    "    new_list = []\n",
    "    for sentence in mail:\n",
    "      for i in symbols:\n",
    "        sentence = sentence.replace(i, '')\n",
    "      new_list.append(sentence)\n",
    "    return new_list\n",
    "df['mail'] = remove_symbols(df['mail'])\n",
    "df.head()"
   ]
  },
  {
   "cell_type": "code",
   "execution_count": 11,
   "id": "855a7505",
   "metadata": {},
   "outputs": [
    {
     "data": {
      "text/html": [
       "<div>\n",
       "<style scoped>\n",
       "    .dataframe tbody tr th:only-of-type {\n",
       "        vertical-align: middle;\n",
       "    }\n",
       "\n",
       "    .dataframe tbody tr th {\n",
       "        vertical-align: top;\n",
       "    }\n",
       "\n",
       "    .dataframe thead th {\n",
       "        text-align: right;\n",
       "    }\n",
       "</style>\n",
       "<table border=\"1\" class=\"dataframe\">\n",
       "  <thead>\n",
       "    <tr style=\"text-align: right;\">\n",
       "      <th></th>\n",
       "      <th>mail</th>\n",
       "      <th>label</th>\n",
       "      <th>Unnamed: 2</th>\n",
       "    </tr>\n",
       "  </thead>\n",
       "  <tbody>\n",
       "    <tr>\n",
       "      <th>0</th>\n",
       "      <td>business terms and conditions to continue our...</td>\n",
       "      <td>2</td>\n",
       "      <td>NaN</td>\n",
       "    </tr>\n",
       "    <tr>\n",
       "      <th>1</th>\n",
       "      <td>im sorry that i couldnt get to your birthday ...</td>\n",
       "      <td>1</td>\n",
       "      <td>NaN</td>\n",
       "    </tr>\n",
       "    <tr>\n",
       "      <th>2</th>\n",
       "      <td>your amazonin order of 1 item has been dispat...</td>\n",
       "      <td>5</td>\n",
       "      <td>NaN</td>\n",
       "    </tr>\n",
       "    <tr>\n",
       "      <th>3</th>\n",
       "      <td>we thought youd like to know that weve dispat...</td>\n",
       "      <td>5</td>\n",
       "      <td>NaN</td>\n",
       "    </tr>\n",
       "    <tr>\n",
       "      <th>4</th>\n",
       "      <td>for the secure delivery of your order, it wil...</td>\n",
       "      <td>5</td>\n",
       "      <td>NaN</td>\n",
       "    </tr>\n",
       "  </tbody>\n",
       "</table>\n",
       "</div>"
      ],
      "text/plain": [
       "                                                mail  label  Unnamed: 2\n",
       "0   business terms and conditions to continue our...      2         NaN\n",
       "1   im sorry that i couldnt get to your birthday ...      1         NaN\n",
       "2   your amazonin order of 1 item has been dispat...      5         NaN\n",
       "3   we thought youd like to know that weve dispat...      5         NaN\n",
       "4   for the secure delivery of your order, it wil...      5         NaN"
      ]
     },
     "execution_count": 11,
     "metadata": {},
     "output_type": "execute_result"
    }
   ],
   "source": [
    "# Removing empty mails\n",
    "def remove_empty_mail(df):\n",
    "  cnt = df.shape[0]\n",
    "  for i in range(cnt):\n",
    "    if df['mail'][i] == '':\n",
    "      df = df.drop(i)\n",
    "  return df\n",
    "df = remove_empty_mail(df)\n",
    "df.head()"
   ]
  },
  {
   "cell_type": "code",
   "execution_count": 12,
   "id": "546314f0",
   "metadata": {},
   "outputs": [
    {
     "data": {
      "text/html": [
       "<div>\n",
       "<style scoped>\n",
       "    .dataframe tbody tr th:only-of-type {\n",
       "        vertical-align: middle;\n",
       "    }\n",
       "\n",
       "    .dataframe tbody tr th {\n",
       "        vertical-align: top;\n",
       "    }\n",
       "\n",
       "    .dataframe thead th {\n",
       "        text-align: right;\n",
       "    }\n",
       "</style>\n",
       "<table border=\"1\" class=\"dataframe\">\n",
       "  <thead>\n",
       "    <tr style=\"text-align: right;\">\n",
       "      <th></th>\n",
       "      <th>mail</th>\n",
       "      <th>label</th>\n",
       "      <th>Unnamed: 2</th>\n",
       "    </tr>\n",
       "  </thead>\n",
       "  <tbody>\n",
       "    <tr>\n",
       "      <th>0</th>\n",
       "      <td>business terms conditions continue deal</td>\n",
       "      <td>2</td>\n",
       "      <td>NaN</td>\n",
       "    </tr>\n",
       "    <tr>\n",
       "      <th>1</th>\n",
       "      <td>im sorry couldnt get birthday party</td>\n",
       "      <td>1</td>\n",
       "      <td>NaN</td>\n",
       "    </tr>\n",
       "    <tr>\n",
       "      <th>2</th>\n",
       "      <td>amazonin order 1 item dispatched</td>\n",
       "      <td>5</td>\n",
       "      <td>NaN</td>\n",
       "    </tr>\n",
       "    <tr>\n",
       "      <th>3</th>\n",
       "      <td>thought youd like know weve dispatched items o...</td>\n",
       "      <td>5</td>\n",
       "      <td>NaN</td>\n",
       "    </tr>\n",
       "    <tr>\n",
       "      <th>4</th>\n",
       "      <td>secure delivery order, delivered secure, tampe...</td>\n",
       "      <td>5</td>\n",
       "      <td>NaN</td>\n",
       "    </tr>\n",
       "  </tbody>\n",
       "</table>\n",
       "</div>"
      ],
      "text/plain": [
       "                                                mail  label  Unnamed: 2\n",
       "0            business terms conditions continue deal      2         NaN\n",
       "1                im sorry couldnt get birthday party      1         NaN\n",
       "2                   amazonin order 1 item dispatched      5         NaN\n",
       "3  thought youd like know weve dispatched items o...      5         NaN\n",
       "4  secure delivery order, delivered secure, tampe...      5         NaN"
      ]
     },
     "execution_count": 12,
     "metadata": {},
     "output_type": "execute_result"
    }
   ],
   "source": [
    "# Removing stopwords\n",
    "stop_words = stopwords.words('english')  \n",
    "def remove_stopwords(mail):\n",
    "  new_list = []\n",
    "  for sentence in mail:\n",
    "    new_text = \"\"\n",
    "    for word in sentence.split():\n",
    "        if word not in stop_words:\n",
    "            new_text = new_text + \" \" + word\n",
    "    new_list.append(new_text.strip())\n",
    "  return new_list\n",
    "df['mail'] = remove_stopwords(df['mail'])\n",
    "df.head()"
   ]
  },
  {
   "cell_type": "code",
   "execution_count": 13,
   "id": "8987f424",
   "metadata": {},
   "outputs": [
    {
     "data": {
      "text/html": [
       "<div>\n",
       "<style scoped>\n",
       "    .dataframe tbody tr th:only-of-type {\n",
       "        vertical-align: middle;\n",
       "    }\n",
       "\n",
       "    .dataframe tbody tr th {\n",
       "        vertical-align: top;\n",
       "    }\n",
       "\n",
       "    .dataframe thead th {\n",
       "        text-align: right;\n",
       "    }\n",
       "</style>\n",
       "<table border=\"1\" class=\"dataframe\">\n",
       "  <thead>\n",
       "    <tr style=\"text-align: right;\">\n",
       "      <th></th>\n",
       "      <th>mail</th>\n",
       "      <th>label</th>\n",
       "      <th>Unnamed: 2</th>\n",
       "    </tr>\n",
       "  </thead>\n",
       "  <tbody>\n",
       "    <tr>\n",
       "      <th>0</th>\n",
       "      <td>business terms conditions continue deal</td>\n",
       "      <td>2</td>\n",
       "      <td>NaN</td>\n",
       "    </tr>\n",
       "    <tr>\n",
       "      <th>1</th>\n",
       "      <td>im sorry couldnt get birthday party</td>\n",
       "      <td>1</td>\n",
       "      <td>NaN</td>\n",
       "    </tr>\n",
       "    <tr>\n",
       "      <th>2</th>\n",
       "      <td>amazonin order 1 item dispatched</td>\n",
       "      <td>5</td>\n",
       "      <td>NaN</td>\n",
       "    </tr>\n",
       "    <tr>\n",
       "      <th>3</th>\n",
       "      <td>thought youd like know weve dispatched items o...</td>\n",
       "      <td>5</td>\n",
       "      <td>NaN</td>\n",
       "    </tr>\n",
       "    <tr>\n",
       "      <th>4</th>\n",
       "      <td>secure delivery order, delivered secure, tampe...</td>\n",
       "      <td>5</td>\n",
       "      <td>NaN</td>\n",
       "    </tr>\n",
       "  </tbody>\n",
       "</table>\n",
       "</div>"
      ],
      "text/plain": [
       "                                                mail  label  Unnamed: 2\n",
       "0            business terms conditions continue deal      2         NaN\n",
       "1                im sorry couldnt get birthday party      1         NaN\n",
       "2                   amazonin order 1 item dispatched      5         NaN\n",
       "3  thought youd like know weve dispatched items o...      5         NaN\n",
       "4  secure delivery order, delivered secure, tampe...      5         NaN"
      ]
     },
     "execution_count": 13,
     "metadata": {},
     "output_type": "execute_result"
    }
   ],
   "source": [
    "# Removing emoticons\n",
    "def remove_emoticon(mail):\n",
    "    regrex_pattern = re.compile(pattern = \"[\"\n",
    "        u\"\\U0001F600-\\U0001F64F\"  # emoticons\n",
    "        u\"\\U0001F300-\\U0001F5FF\"  # symbols & pictographs\n",
    "        u\"\\U0001F680-\\U0001F6FF\"  # transport & map symbols\n",
    "        u\"\\U0001F1E0-\\U0001F1FF\"  # flags (iOS)\n",
    "                           \"]+\", flags = re.UNICODE)\n",
    "    new_list = []\n",
    "#    print(mail)\n",
    "    for sentence in mail:\n",
    "      new_list.append(regrex_pattern.sub(r'',str(sentence)))\n",
    "    return new_list\n",
    "df['mail'] = remove_emoticon(df['mail'])\n",
    "df.head()"
   ]
  },
  {
   "cell_type": "code",
   "execution_count": 14,
   "id": "3d977cc0",
   "metadata": {},
   "outputs": [
    {
     "data": {
      "text/html": [
       "<div>\n",
       "<style scoped>\n",
       "    .dataframe tbody tr th:only-of-type {\n",
       "        vertical-align: middle;\n",
       "    }\n",
       "\n",
       "    .dataframe tbody tr th {\n",
       "        vertical-align: top;\n",
       "    }\n",
       "\n",
       "    .dataframe thead th {\n",
       "        text-align: right;\n",
       "    }\n",
       "</style>\n",
       "<table border=\"1\" class=\"dataframe\">\n",
       "  <thead>\n",
       "    <tr style=\"text-align: right;\">\n",
       "      <th></th>\n",
       "      <th>mail</th>\n",
       "      <th>label</th>\n",
       "      <th>Unnamed: 2</th>\n",
       "    </tr>\n",
       "  </thead>\n",
       "  <tbody>\n",
       "    <tr>\n",
       "      <th>0</th>\n",
       "      <td>business term condition continue deal</td>\n",
       "      <td>2</td>\n",
       "      <td>NaN</td>\n",
       "    </tr>\n",
       "    <tr>\n",
       "      <th>1</th>\n",
       "      <td>im sorry couldnt get birthday party</td>\n",
       "      <td>1</td>\n",
       "      <td>NaN</td>\n",
       "    </tr>\n",
       "    <tr>\n",
       "      <th>2</th>\n",
       "      <td>amazonin order 1 item dispatched</td>\n",
       "      <td>5</td>\n",
       "      <td>NaN</td>\n",
       "    </tr>\n",
       "    <tr>\n",
       "      <th>3</th>\n",
       "      <td>thought youd like know weve dispatched item or...</td>\n",
       "      <td>5</td>\n",
       "      <td>NaN</td>\n",
       "    </tr>\n",
       "    <tr>\n",
       "      <th>4</th>\n",
       "      <td>secure delivery order, delivered secure, tampe...</td>\n",
       "      <td>5</td>\n",
       "      <td>NaN</td>\n",
       "    </tr>\n",
       "  </tbody>\n",
       "</table>\n",
       "</div>"
      ],
      "text/plain": [
       "                                                mail  label  Unnamed: 2\n",
       "0              business term condition continue deal      2         NaN\n",
       "1                im sorry couldnt get birthday party      1         NaN\n",
       "2                   amazonin order 1 item dispatched      5         NaN\n",
       "3  thought youd like know weve dispatched item or...      5         NaN\n",
       "4  secure delivery order, delivered secure, tampe...      5         NaN"
      ]
     },
     "execution_count": 14,
     "metadata": {},
     "output_type": "execute_result"
    }
   ],
   "source": [
    "# lemmatization\n",
    "def perform_lemmatization(mail):\n",
    "  lemmatizer = WordNetLemmatizer()\n",
    "  new_list = []\n",
    "  for sentence in mail: \n",
    "    new_text = \"\"\n",
    "    for w in sentence.split():\n",
    "        new_text = new_text + \" \" + lemmatizer.lemmatize(w)\n",
    "    new_list.append(new_text.strip())\n",
    "  return new_list\n",
    "df['mail'] = perform_lemmatization(df['mail'])\n",
    "df.head()"
   ]
  },
  {
   "cell_type": "markdown",
   "id": "19cac368",
   "metadata": {},
   "source": [
    "## appropriate label for target"
   ]
  },
  {
   "cell_type": "code",
   "execution_count": 15,
   "id": "6ca12014",
   "metadata": {},
   "outputs": [
    {
     "data": {
      "text/plain": [
       "mail             0\n",
       "label            0\n",
       "Unnamed: 2    1394\n",
       "dtype: int64"
      ]
     },
     "execution_count": 15,
     "metadata": {},
     "output_type": "execute_result"
    }
   ],
   "source": [
    "# Checking null values\n",
    "df.isna().sum()"
   ]
  },
  {
   "cell_type": "code",
   "execution_count": 16,
   "id": "82e5a432",
   "metadata": {},
   "outputs": [
    {
     "data": {
      "text/plain": [
       "0    756\n",
       "1    157\n",
       "2    153\n",
       "3    120\n",
       "5    111\n",
       "4     97\n",
       "Name: label, dtype: int64"
      ]
     },
     "execution_count": 16,
     "metadata": {},
     "output_type": "execute_result"
    }
   ],
   "source": [
    "# Counting label values\n",
    "df['label'].value_counts()"
   ]
  },
  {
   "cell_type": "code",
   "execution_count": 17,
   "id": "f7ba9718",
   "metadata": {},
   "outputs": [],
   "source": [
    "totalwords = df['mail'].str.split()"
   ]
  },
  {
   "cell_type": "code",
   "execution_count": 18,
   "id": "fc9436ea",
   "metadata": {},
   "outputs": [],
   "source": [
    "# Creating list of count of words in the mail\n",
    "totalwords = df['mail'].str.split().str.len()"
   ]
  },
  {
   "cell_type": "code",
   "execution_count": 19,
   "id": "e2293a15",
   "metadata": {
    "scrolled": true
   },
   "outputs": [
    {
     "data": {
      "text/plain": [
       "138"
      ]
     },
     "execution_count": 19,
     "metadata": {},
     "output_type": "execute_result"
    }
   ],
   "source": [
    "# Finding maximum mail length\n",
    "max_word = max(totalwords)\n",
    "max_word"
   ]
  },
  {
   "cell_type": "markdown",
   "id": "dc1e5c23",
   "metadata": {},
   "source": [
    "## 4. Appropriately partition the set into Train, cv, and Test"
   ]
  },
  {
   "cell_type": "code",
   "execution_count": 20,
   "id": "2a835a02",
   "metadata": {},
   "outputs": [],
   "source": [
    "# Splitting data into X and y\n",
    "X = df['mail']\n",
    "#y = df['label']"
   ]
  },
  {
   "cell_type": "code",
   "execution_count": 21,
   "id": "02665281",
   "metadata": {},
   "outputs": [
    {
     "name": "stdout",
     "output_type": "stream",
     "text": [
      "Shape of label tensor: (1394, 6)\n"
     ]
    }
   ],
   "source": [
    "y = pd.get_dummies(df['label']).values\n",
    "print('Shape of label tensor:', y.shape)"
   ]
  },
  {
   "cell_type": "code",
   "execution_count": 22,
   "id": "35495987",
   "metadata": {},
   "outputs": [
    {
     "name": "stdout",
     "output_type": "stream",
     "text": [
      "(1115,) (1115, 6)\n",
      "(279,) (279, 6)\n"
     ]
    }
   ],
   "source": [
    "# Splitting data into train and test\n",
    "X_train, X_test, y_train, y_test = train_test_split(X, y,random_state = 24, test_size=0.2)\n",
    "print(X_train.shape, y_train.shape)\n",
    "print(X_test.shape, y_test.shape)"
   ]
  },
  {
   "cell_type": "markdown",
   "id": "7f8342e2",
   "metadata": {},
   "source": [
    "## Use Keras Embedding word2Vec"
   ]
  },
  {
   "cell_type": "code",
   "execution_count": 23,
   "id": "6b8c4ac2",
   "metadata": {},
   "outputs": [],
   "source": [
    "# Generating vocabulary of words\n",
    "documents = [_text.split() for _text in X_train] "
   ]
  },
  {
   "cell_type": "code",
   "execution_count": 24,
   "id": "fe0ed289",
   "metadata": {},
   "outputs": [],
   "source": [
    "# Initializing word2vec model\n",
    "w2v_model = gensim.models.word2vec.Word2Vec(vector_size=300, window=7, min_count=3, workers=8)"
   ]
  },
  {
   "cell_type": "code",
   "execution_count": 25,
   "id": "6a6bb66a",
   "metadata": {},
   "outputs": [],
   "source": [
    "# Building vocabulary\n",
    "w2v_model.build_vocab(documents)"
   ]
  },
  {
   "cell_type": "markdown",
   "id": "28263c2f",
   "metadata": {},
   "source": [
    "## Process all the text and create a unique vocabulary set."
   ]
  },
  {
   "cell_type": "code",
   "execution_count": 26,
   "id": "ac8d28b0",
   "metadata": {},
   "outputs": [
    {
     "name": "stdout",
     "output_type": "stream",
     "text": [
      "Vocab size 1392\n"
     ]
    }
   ],
   "source": [
    "# Checking vocabulary size\n",
    "words = w2v_model.wv.key_to_index.keys()\n",
    "vocab_size = len(words)\n",
    "print(\"Vocab size\", vocab_size)"
   ]
  },
  {
   "cell_type": "code",
   "execution_count": 27,
   "id": "838c829d",
   "metadata": {},
   "outputs": [
    {
     "data": {
      "text/plain": [
       "(417238, 604288)"
      ]
     },
     "execution_count": 27,
     "metadata": {},
     "output_type": "execute_result"
    }
   ],
   "source": [
    "# Training word2vec model\n",
    "w2v_model.train(documents, total_examples=len(documents), epochs=32)"
   ]
  },
  {
   "cell_type": "code",
   "execution_count": 28,
   "id": "f41bdfe2",
   "metadata": {},
   "outputs": [
    {
     "name": "stdout",
     "output_type": "stream",
     "text": [
      "Total words 4587\n"
     ]
    }
   ],
   "source": [
    "# Initializing tokenizer and fitting mail\n",
    "tokenizer = Tokenizer()\n",
    "tokenizer.fit_on_texts(X_train)\n",
    "\n",
    "vocab_size = len(tokenizer.word_index) + 1\n",
    "print(\"Total words\", vocab_size)"
   ]
  },
  {
   "cell_type": "code",
   "execution_count": 29,
   "id": "42ede219",
   "metadata": {},
   "outputs": [],
   "source": [
    "# Converting mail to sequences and padding it\n",
    "x_train = pad_sequences(tokenizer.texts_to_sequences(X_train), maxlen=max_word)\n",
    "x_test = pad_sequences(tokenizer.texts_to_sequences(X_test), maxlen=max_word)"
   ]
  },
  {
   "cell_type": "code",
   "execution_count": 30,
   "id": "35af4dd6",
   "metadata": {},
   "outputs": [],
   "source": [
    "# Reshape lebel data\n",
    "#y_train = y_train.values.reshape(-1,1)\n",
    "#y_test = y_test.reshape((-1,6))"
   ]
  },
  {
   "cell_type": "code",
   "execution_count": 31,
   "id": "76f82098",
   "metadata": {},
   "outputs": [
    {
     "name": "stdout",
     "output_type": "stream",
     "text": [
      "x_train (1115, 138)\n",
      "y_train (1115, 6)\n",
      "x_test (279, 138)\n",
      "y_test (279, 6)\n"
     ]
    }
   ],
   "source": [
    "# Checking shape of data\n",
    "print(\"x_train\", x_train.shape)\n",
    "print(\"y_train\", y_train.shape)\n",
    "print(\"x_test\", x_test.shape)\n",
    "print(\"y_test\", y_test.shape)"
   ]
  },
  {
   "cell_type": "code",
   "execution_count": 32,
   "id": "1a7d3b57",
   "metadata": {},
   "outputs": [
    {
     "name": "stdout",
     "output_type": "stream",
     "text": [
      "(4587, 300)\n"
     ]
    }
   ],
   "source": [
    "# Creating embedding matrix to use for words relation\n",
    "embedding_matrix = np.zeros((vocab_size, 300))\n",
    "for word, i in tokenizer.word_index.items():\n",
    "  if word in w2v_model.wv:\n",
    "    embedding_matrix[i] = w2v_model.wv[word]\n",
    "print(embedding_matrix.shape)"
   ]
  },
  {
   "cell_type": "markdown",
   "id": "9e355a3c",
   "metadata": {},
   "source": [
    "## Create the LSTM based model"
   ]
  },
  {
   "cell_type": "code",
   "execution_count": 33,
   "id": "0ded4456",
   "metadata": {},
   "outputs": [],
   "source": [
    "# Callback to stop model training early\n",
    "callbacks = [EarlyStopping(monitor='val_accuracy', patience=2)]"
   ]
  },
  {
   "cell_type": "code",
   "execution_count": 48,
   "id": "a4994f25",
   "metadata": {},
   "outputs": [
    {
     "name": "stdout",
     "output_type": "stream",
     "text": [
      "Model: \"sequential_2\"\n",
      "_________________________________________________________________\n",
      " Layer (type)                Output Shape              Param #   \n",
      "=================================================================\n",
      " embedding_2 (Embedding)     (None, 138, 300)          1376100   \n",
      "                                                                 \n",
      " dropout_10 (Dropout)        (None, 138, 300)          0         \n",
      "                                                                 \n",
      " lstm_2 (LSTM)               (None, 64)                93440     \n",
      "                                                                 \n",
      " dropout_11 (Dropout)        (None, 64)                0         \n",
      "                                                                 \n",
      " dense_8 (Dense)             (None, 128)               8320      \n",
      "                                                                 \n",
      " dropout_12 (Dropout)        (None, 128)               0         \n",
      "                                                                 \n",
      " dense_9 (Dense)             (None, 6)                 774       \n",
      "                                                                 \n",
      "=================================================================\n",
      "Total params: 1,478,634\n",
      "Trainable params: 1,478,634\n",
      "Non-trainable params: 0\n",
      "_________________________________________________________________\n"
     ]
    }
   ],
   "source": [
    "# Creating model architecture\n",
    "model = Sequential()\n",
    "model.add(Embedding(vocab_size, 300, weights=[embedding_matrix], input_length=max_word))\n",
    "model.add(Dropout(0.3))\n",
    "model.add(LSTM(64))\n",
    "\n",
    "model.add(Dropout(0.3)) #0.5 initial\n",
    "model.add(Dense(128, activation='relu'))\n",
    "\n",
    "\n",
    "\n",
    "model.add(Dropout(0.1))\n",
    "model.add(Dense(6, activation='softmax'))\n",
    "\n",
    "model.summary()"
   ]
  },
  {
   "cell_type": "code",
   "execution_count": 49,
   "id": "0f3f8af9",
   "metadata": {},
   "outputs": [],
   "source": [
    "# Compiling model\n",
    "model.compile(loss='categorical_crossentropy', optimizer=\"adam\", metrics=['accuracy'])"
   ]
  },
  {
   "cell_type": "code",
   "execution_count": 50,
   "id": "ef6505f0",
   "metadata": {},
   "outputs": [
    {
     "name": "stdout",
     "output_type": "stream",
     "text": [
      "Epoch 1/50\n",
      "7/7 [==============================] - 8s 587ms/step - loss: 1.5757 - accuracy: 0.4529 - val_loss: 1.3184 - val_accuracy: 0.4933\n",
      "Epoch 2/50\n",
      "7/7 [==============================] - 4s 536ms/step - loss: 1.0934 - accuracy: 0.5751 - val_loss: 1.0711 - val_accuracy: 0.5561\n",
      "Epoch 3/50\n",
      "7/7 [==============================] - 3s 437ms/step - loss: 0.8572 - accuracy: 0.6996 - val_loss: 0.9204 - val_accuracy: 0.7040\n",
      "Epoch 4/50\n",
      "7/7 [==============================] - 3s 404ms/step - loss: 0.7698 - accuracy: 0.7354 - val_loss: 0.8524 - val_accuracy: 0.6951\n",
      "Epoch 5/50\n",
      "7/7 [==============================] - 3s 407ms/step - loss: 0.6800 - accuracy: 0.7612 - val_loss: 0.7958 - val_accuracy: 0.6413\n",
      "Epoch 6/50\n",
      "7/7 [==============================] - 3s 410ms/step - loss: 0.5673 - accuracy: 0.7926 - val_loss: 0.6993 - val_accuracy: 0.7085\n",
      "Epoch 7/50\n",
      "7/7 [==============================] - 3s 402ms/step - loss: 0.4991 - accuracy: 0.8195 - val_loss: 0.6324 - val_accuracy: 0.7534\n",
      "Epoch 8/50\n",
      "7/7 [==============================] - 3s 399ms/step - loss: 0.4409 - accuracy: 0.8195 - val_loss: 0.5933 - val_accuracy: 0.7758\n",
      "Epoch 9/50\n",
      "7/7 [==============================] - 3s 406ms/step - loss: 0.3890 - accuracy: 0.8520 - val_loss: 0.5755 - val_accuracy: 0.7668\n",
      "Epoch 10/50\n",
      "7/7 [==============================] - 3s 402ms/step - loss: 0.3369 - accuracy: 0.8778 - val_loss: 0.5270 - val_accuracy: 0.8161\n",
      "Epoch 11/50\n",
      "7/7 [==============================] - 3s 402ms/step - loss: 0.2909 - accuracy: 0.8868 - val_loss: 0.5252 - val_accuracy: 0.7982\n",
      "Epoch 12/50\n",
      "7/7 [==============================] - 3s 398ms/step - loss: 0.2390 - accuracy: 0.9316 - val_loss: 0.5225 - val_accuracy: 0.8117\n",
      "Epoch 13/50\n",
      "7/7 [==============================] - 3s 409ms/step - loss: 0.1887 - accuracy: 0.9496 - val_loss: 0.5107 - val_accuracy: 0.8386\n",
      "Epoch 14/50\n",
      "7/7 [==============================] - 3s 403ms/step - loss: 0.1377 - accuracy: 0.9675 - val_loss: 0.5549 - val_accuracy: 0.8296\n",
      "Epoch 15/50\n",
      "7/7 [==============================] - 3s 409ms/step - loss: 0.1130 - accuracy: 0.9765 - val_loss: 0.4691 - val_accuracy: 0.8610\n",
      "Epoch 16/50\n",
      "7/7 [==============================] - 3s 404ms/step - loss: 0.0938 - accuracy: 0.9821 - val_loss: 0.5261 - val_accuracy: 0.8610\n",
      "Epoch 17/50\n",
      "7/7 [==============================] - 3s 400ms/step - loss: 0.0721 - accuracy: 0.9854 - val_loss: 0.4992 - val_accuracy: 0.8834\n",
      "Epoch 18/50\n",
      "7/7 [==============================] - 3s 402ms/step - loss: 0.0648 - accuracy: 0.9877 - val_loss: 0.5283 - val_accuracy: 0.8520\n",
      "Epoch 19/50\n",
      "7/7 [==============================] - 3s 397ms/step - loss: 0.0785 - accuracy: 0.9821 - val_loss: 0.6918 - val_accuracy: 0.8161\n",
      "Epoch 20/50\n",
      "7/7 [==============================] - 3s 401ms/step - loss: 0.0597 - accuracy: 0.9854 - val_loss: 0.4990 - val_accuracy: 0.8565\n",
      "Epoch 21/50\n",
      "7/7 [==============================] - 3s 405ms/step - loss: 0.0426 - accuracy: 0.9933 - val_loss: 0.7461 - val_accuracy: 0.8117\n",
      "Epoch 22/50\n",
      "7/7 [==============================] - 3s 406ms/step - loss: 0.0435 - accuracy: 0.9933 - val_loss: 0.5755 - val_accuracy: 0.8565\n",
      "Epoch 23/50\n",
      "7/7 [==============================] - 3s 404ms/step - loss: 0.0279 - accuracy: 0.9944 - val_loss: 0.5791 - val_accuracy: 0.8520\n",
      "Epoch 24/50\n",
      "7/7 [==============================] - 3s 416ms/step - loss: 0.0284 - accuracy: 0.9944 - val_loss: 0.5420 - val_accuracy: 0.8789\n",
      "Epoch 25/50\n",
      "7/7 [==============================] - 3s 402ms/step - loss: 0.0191 - accuracy: 0.9989 - val_loss: 0.5818 - val_accuracy: 0.8744\n",
      "Epoch 26/50\n",
      "7/7 [==============================] - 3s 401ms/step - loss: 0.0174 - accuracy: 0.9978 - val_loss: 0.6677 - val_accuracy: 0.8700\n",
      "Epoch 27/50\n",
      "7/7 [==============================] - 3s 398ms/step - loss: 0.0167 - accuracy: 0.9966 - val_loss: 0.6619 - val_accuracy: 0.8655\n",
      "Epoch 28/50\n",
      "7/7 [==============================] - 3s 405ms/step - loss: 0.0113 - accuracy: 0.9966 - val_loss: 0.5874 - val_accuracy: 0.8834\n",
      "Epoch 29/50\n",
      "7/7 [==============================] - 3s 393ms/step - loss: 0.0123 - accuracy: 0.9978 - val_loss: 0.5292 - val_accuracy: 0.8879\n",
      "Epoch 30/50\n",
      "7/7 [==============================] - 3s 400ms/step - loss: 0.0092 - accuracy: 0.9989 - val_loss: 0.5281 - val_accuracy: 0.8924\n",
      "Epoch 31/50\n",
      "7/7 [==============================] - 3s 403ms/step - loss: 0.0086 - accuracy: 0.9989 - val_loss: 0.5402 - val_accuracy: 0.8924\n",
      "Epoch 32/50\n",
      "7/7 [==============================] - 3s 414ms/step - loss: 0.0052 - accuracy: 1.0000 - val_loss: 0.5599 - val_accuracy: 0.8969\n",
      "Epoch 33/50\n",
      "7/7 [==============================] - 3s 395ms/step - loss: 0.0062 - accuracy: 1.0000 - val_loss: 0.5945 - val_accuracy: 0.8789\n",
      "Epoch 34/50\n",
      "7/7 [==============================] - 3s 408ms/step - loss: 0.0064 - accuracy: 0.9989 - val_loss: 0.5644 - val_accuracy: 0.8924\n",
      "Epoch 35/50\n",
      "7/7 [==============================] - 3s 399ms/step - loss: 0.0129 - accuracy: 0.9966 - val_loss: 0.5492 - val_accuracy: 0.8700\n",
      "Epoch 36/50\n",
      "7/7 [==============================] - 3s 416ms/step - loss: 0.0079 - accuracy: 0.9989 - val_loss: 0.6595 - val_accuracy: 0.8700\n",
      "Epoch 37/50\n",
      "7/7 [==============================] - 3s 394ms/step - loss: 0.0066 - accuracy: 1.0000 - val_loss: 0.7217 - val_accuracy: 0.8565\n",
      "Epoch 38/50\n",
      "7/7 [==============================] - 3s 398ms/step - loss: 0.0071 - accuracy: 0.9989 - val_loss: 0.7309 - val_accuracy: 0.8565\n",
      "Epoch 39/50\n",
      "7/7 [==============================] - 3s 393ms/step - loss: 0.0053 - accuracy: 0.9989 - val_loss: 0.7085 - val_accuracy: 0.8520\n",
      "Epoch 40/50\n",
      "7/7 [==============================] - 3s 400ms/step - loss: 0.0066 - accuracy: 0.9978 - val_loss: 0.6861 - val_accuracy: 0.8655\n",
      "Epoch 41/50\n",
      "7/7 [==============================] - 3s 412ms/step - loss: 0.0042 - accuracy: 1.0000 - val_loss: 0.6804 - val_accuracy: 0.8789\n",
      "Epoch 42/50\n",
      "7/7 [==============================] - 3s 402ms/step - loss: 0.0035 - accuracy: 1.0000 - val_loss: 0.6806 - val_accuracy: 0.8789\n",
      "Epoch 43/50\n",
      "7/7 [==============================] - 3s 402ms/step - loss: 0.0044 - accuracy: 0.9989 - val_loss: 0.6785 - val_accuracy: 0.8834\n",
      "Epoch 44/50\n",
      "7/7 [==============================] - 3s 420ms/step - loss: 0.0038 - accuracy: 1.0000 - val_loss: 0.6766 - val_accuracy: 0.8744\n",
      "Epoch 45/50\n",
      "7/7 [==============================] - 3s 434ms/step - loss: 0.0038 - accuracy: 1.0000 - val_loss: 0.6777 - val_accuracy: 0.8789\n",
      "Epoch 46/50\n",
      "7/7 [==============================] - 3s 398ms/step - loss: 0.0033 - accuracy: 1.0000 - val_loss: 0.7230 - val_accuracy: 0.8744\n",
      "Epoch 47/50\n",
      "7/7 [==============================] - 3s 402ms/step - loss: 0.0033 - accuracy: 1.0000 - val_loss: 0.7173 - val_accuracy: 0.8744\n",
      "Epoch 48/50\n",
      "7/7 [==============================] - 3s 401ms/step - loss: 0.0022 - accuracy: 1.0000 - val_loss: 0.7218 - val_accuracy: 0.8789\n",
      "Epoch 49/50\n",
      "7/7 [==============================] - 3s 394ms/step - loss: 0.0024 - accuracy: 1.0000 - val_loss: 0.7426 - val_accuracy: 0.8834\n",
      "Epoch 50/50\n",
      "7/7 [==============================] - 3s 405ms/step - loss: 0.0019 - accuracy: 1.0000 - val_loss: 0.7346 - val_accuracy: 0.8834\n"
     ]
    }
   ],
   "source": [
    "# Training model\n",
    "history = model.fit(x_train, y_train, batch_size=128, epochs=50, validation_split=0.2, verbose=1)"
   ]
  },
  {
   "cell_type": "code",
   "execution_count": 52,
   "id": "708f7150",
   "metadata": {},
   "outputs": [],
   "source": [
    "model.save('emailclass.h5')"
   ]
  },
  {
   "cell_type": "code",
   "execution_count": 53,
   "id": "ac9a1035",
   "metadata": {},
   "outputs": [],
   "source": [
    "import pickle"
   ]
  },
  {
   "cell_type": "code",
   "execution_count": 54,
   "id": "27efff4c",
   "metadata": {},
   "outputs": [],
   "source": [
    "with open('tokenizer.pickle','wb') as handle:\n",
    "    pickle.dump(tokenizer,handle,protocol=pickle.HIGHEST_PROTOCOL)"
   ]
  },
  {
   "cell_type": "code",
   "execution_count": 55,
   "id": "64dd7669",
   "metadata": {},
   "outputs": [
    {
     "name": "stdout",
     "output_type": "stream",
     "text": [
      "9/9 [==============================] - 0s 36ms/step - loss: 0.7514 - accuracy: 0.8566\n",
      "ACCURACY: 0.856630802154541\n",
      "LOSS: 0.7514393329620361\n"
     ]
    }
   ],
   "source": [
    "# Checking model accuracy and loss\n",
    "scoreR = model.evaluate(x_test, y_test)\n",
    "print(\"ACCURACY:\",scoreR[1])\n",
    "print(\"LOSS:\",scoreR[0])"
   ]
  },
  {
   "cell_type": "code",
   "execution_count": null,
   "id": "06c768d2",
   "metadata": {},
   "outputs": [],
   "source": []
  }
 ],
 "metadata": {
  "kernelspec": {
   "display_name": "Python 3 (ipykernel)",
   "language": "python",
   "name": "python3"
  },
  "language_info": {
   "codemirror_mode": {
    "name": "ipython",
    "version": 3
   },
   "file_extension": ".py",
   "mimetype": "text/x-python",
   "name": "python",
   "nbconvert_exporter": "python",
   "pygments_lexer": "ipython3",
   "version": "3.9.7"
  }
 },
 "nbformat": 4,
 "nbformat_minor": 5
}
